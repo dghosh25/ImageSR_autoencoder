{
 "cells": [
  {
   "cell_type": "code",
   "execution_count": null,
   "id": "fe24b266-b60d-4644-91be-a43ed8caeb3d",
   "metadata": {},
   "outputs": [],
   "source": [
    "from tensorflow.keras.layers import Input, Dense, Conv2D, MaxPooling2D, Dropout\n",
    "from tensorflow.keras.layers import Conv2DTranspose, UpSampling2D, add\n",
    "from tensorflow.keras.models import Model\n",
    "from tensorflow.keras import regularizers\n",
    "import matplotlib.pyplot as plt\n",
    "import tensorflow as tf\n",
    "import numpy as np\n",
    "import re\n",
    "import os\n",
    "import cv2"
   ]
  },
  {
   "cell_type": "code",
   "execution_count": null,
   "id": "3e501106-7e96-4880-aa0d-d95a4890e57d",
   "metadata": {},
   "outputs": [],
   "source": [
    "def lowResolution(path,sizeHigh,size):\n",
    "    names = sorted(os.listdir(path))\n",
    "    allLowImages = []\n",
    "    for name in names:\n",
    "        fpath = path + name\n",
    "        img = cv2.imread(fpath, cv2.IMREAD_COLOR)\n",
    "        image=cv2.cvtColor(img, cv2.COLOR_BGR2RGB) \n",
    "        \n",
    "        \n",
    "        image = cv2.resize(image,(int(sizeHigh),int(sizeHigh)),cv2.INTER_CUBIC) \n",
    "        image = cv2.resize(image,(int(size),int(size)),cv2.INTER_CUBIC) \n",
    "        lowimage=image[:, :, :].astype(float) / 255 \n",
    "        \n",
    "        allLowImages.append(lowimage) \n",
    "    allLowImages = np.array(allLowImages)\n",
    "    return allLowImages"
   ]
  },
  {
   "cell_type": "code",
   "execution_count": null,
   "id": "8493ef39-0988-4d53-9f7c-a7ece8126da6",
   "metadata": {},
   "outputs": [],
   "source": [
    "def highResolution(path,size):\n",
    "    names = sorted(os.listdir(path))\n",
    "    allHighimages = []\n",
    "    for name in names:\n",
    "        fpath = path + name\n",
    "        img = cv2.imread(fpath, cv2.IMREAD_COLOR)\n",
    "        image=cv2.cvtColor(img, cv2.COLOR_BGR2RGB) #change bgr to rgb\n",
    "        \n",
    "        highimage = cv2.resize(image,(size,size),cv2.INTER_CUBIC) \n",
    "        highimage=highimage[:, :, :].astype(float) / 255 \n",
    "        \n",
    "        allHighimages.append(highimage) \n",
    "    allHighimages = np.array(allHighimages)\n",
    "    return allHighimages"
   ]
  },
  {
   "cell_type": "code",
   "execution_count": null,
   "id": "683d9330-4c37-4010-9778-ad634d128cbc",
   "metadata": {},
   "outputs": [],
   "source": [
    "input_img = Input(shape=(None, None, 3))\n",
    "l1 = Conv2D(64, (3, 3), padding = 'same', activation = 'relu', \n",
    "            activity_regularizer = regularizers.l1(10e-10))(input_img)\n",
    "\n",
    "l2 = Conv2D(64, (3, 3), padding = 'same', activation = 'relu', \n",
    "            activity_regularizer = regularizers.l1(10e-10))(l1)\n",
    "\n",
    "l3 = MaxPooling2D(padding = 'same')(l2)   \n",
    "l3 = Dropout(0.3)(l3)\n",
    "\n",
    "l4 = Conv2D(128, (3, 3),  padding = 'same', activation = 'relu', \n",
    "            activity_regularizer = regularizers.l1(10e-10))(l3)\n",
    "\n",
    "l5 = Conv2D(128, (3, 3), padding = 'same', activation = 'relu', \n",
    "            activity_regularizer = regularizers.l1(10e-10))(l4)\n",
    "\n",
    "l6 = MaxPooling2D(padding = 'same')(l5) #2\n",
    "\n",
    "l7 = Conv2D(256, (3, 3), padding = 'same', activation = 'relu', \n",
    "            activity_regularizer = regularizers.l1(10e-10))(l6)\n",
    "l8 = Conv2DTranspose(256, (2,2), strides=(2,2))(l7)\n",
    "\n",
    "l9 = Conv2D(128, (3, 3), padding = 'same', activation = 'relu',\n",
    "            activity_regularizer = regularizers.l1(10e-10))(l8)\n",
    "\n",
    "l10 = Conv2D(128, (3, 3), padding = 'same', activation = 'relu',\n",
    "             activity_regularizer = regularizers.l1(10e-10))(l9)     # 2  /   2 \n",
    "\n",
    "l11 = add([l5, l10])\n",
    "l12 = Conv2DTranspose(128, (2,2), strides=(2,2))(l11)\n",
    "\n",
    "l13 = Conv2D(64, (3, 3), padding = 'same', activation = 'relu',\n",
    "             activity_regularizer = regularizers.l1(10e-10))(l12)\n",
    "\n",
    "l14 = Conv2D(64, (3, 3), padding = 'same', activation = 'relu',\n",
    "             activity_regularizer = regularizers.l1(10e-10))(l13)\n",
    "\n",
    "l15 = add([l14, l2])\n",
    "postUpsampling= Conv2DTranspose(64, (2,2), strides=(2,2))(l15)\n",
    "\n",
    "decoded = Conv2D(3, (3, 3), padding = 'same', \n",
    "                 activation = 'relu', activity_regularizer = regularizers.l1(10e-10))(postUpsampling)\n",
    "\n",
    "\n",
    "autoencoder = Model(input_img, decoded)"
   ]
  },
  {
   "cell_type": "code",
   "execution_count": null,
   "id": "2524dc0c-e65a-46ce-850f-49f1baadd1b0",
   "metadata": {},
   "outputs": [],
   "source": [
    "autoencoder.summary()"
   ]
  },
  {
   "cell_type": "code",
   "execution_count": null,
   "id": "209f69e9-324d-45a7-92b1-b30bfe95963d",
   "metadata": {},
   "outputs": [],
   "source": [
    "autoencoder.compile(optimizer = 'adam', loss = 'mean_squared_error',metrics='accuracy')"
   ]
  },
  {
   "cell_type": "code",
   "execution_count": null,
   "id": "cfdd88f7-4851-43bc-9fd5-516b28c3a474",
   "metadata": {},
   "outputs": [],
   "source": [
    "x_train_low=lowResolution(\"../DIV2K/DIV2K_train_HR/\",512,256)"
   ]
  },
  {
   "cell_type": "code",
   "execution_count": null,
   "id": "d6218700-edbe-4219-97fd-6dc8f646946e",
   "metadata": {},
   "outputs": [],
   "source": [
    "x_train_high=highResolution(\"../DIV2K/DIV2K_train_HR/\",512)"
   ]
  },
  {
   "cell_type": "code",
   "execution_count": null,
   "id": "99492f71-68ae-4ffc-9448-332abdea646f",
   "metadata": {},
   "outputs": [],
   "source": [
    "print(x_train_low.shape)"
   ]
  },
  {
   "cell_type": "code",
   "execution_count": null,
   "id": "db9aacde-347b-4a19-982e-c0c76cc5e788",
   "metadata": {},
   "outputs": [],
   "source": [
    "print(x_train_high.shape)"
   ]
  },
  {
   "cell_type": "code",
   "execution_count": null,
   "id": "e612fefa-4a03-4a24-b615-3c13fb238b64",
   "metadata": {},
   "outputs": [],
   "source": [
    "plt.figure(figsize = (100, 100))\n",
    "i = 1\n",
    "ax = plt.subplot(10, 10, i)\n",
    "plt.imshow(x_train_low[5])\n",
    "plt.title(\"the low resolution\")\n",
    "i += 1\n",
    "ax = plt.subplot(10, 10, i)\n",
    "plt.imshow(x_train_high[5])\n",
    "plt.title(\"high resolution \")"
   ]
  },
  {
   "cell_type": "code",
   "execution_count": null,
   "id": "35106bfb-db89-4980-905e-53db216275dd",
   "metadata": {},
   "outputs": [],
   "source": [
    "callback = tf.keras.callbacks.EarlyStopping(monitor='val_loss',patience=10,restore_best_weights=True)"
   ]
  },
  {
   "cell_type": "code",
   "execution_count": null,
   "id": "213ee440-abbb-46de-96ea-c75c9364d4c1",
   "metadata": {},
   "outputs": [],
   "source": [
    "history=autoencoder.fit(x_train_low, x_train_high,epochs=120,batch_size=10,shuffle=True, callbacks=[callback],validation_split=0.1)"
   ]
  },
  {
   "cell_type": "code",
   "execution_count": null,
   "id": "5f38216e-5c32-4144-b78f-34f2b08a45c2",
   "metadata": {},
   "outputs": [],
   "source": [
    "loss=history.history[\"loss\"]\n",
    "val_loss=history.history[\"val_loss\"]\n",
    "epochs=range(1,len(loss)+1)\n",
    "plt.plot(epochs,loss,'y',label=\"training loss\")\n",
    "plt.plot(epochs,val_loss,'r',label=\"validation loss\")\n",
    "plt.title(\"training and validation loss\")\n",
    "plt.xlabel(\"Epochs\")\n",
    "plt.ylabel(\"loss\")\n",
    "plt.legend()\n",
    "plt.show()"
   ]
  },
  {
   "cell_type": "code",
   "execution_count": null,
   "id": "09d9afe4-eb50-456b-9487-2d63cc773f74",
   "metadata": {},
   "outputs": [],
   "source": [
    "acc=history.history[\"accuracy\"]\n",
    "val_acc=history.history[\"val_accuracy\"]\n",
    "epochs=range(1,len(loss)+1)\n",
    "plt.plot(epochs,acc,'y',label=\"training acc\")\n",
    "plt.plot(epochs,val_acc,'r',label=\"validation acc\")\n",
    "plt.title(\"training and validation accuracy\")\n",
    "plt.xlabel(\"Epochs\")\n",
    "plt.ylabel(\"loss\")\n",
    "plt.legend()\n",
    "plt.show()"
   ]
  }
 ],
 "metadata": {
  "kernelspec": {
   "display_name": "Python 3.10 (ipykernel)",
   "language": "python",
   "name": "python3"
  },
  "language_info": {
   "codemirror_mode": {
    "name": "ipython",
    "version": 3
   },
   "file_extension": ".py",
   "mimetype": "text/x-python",
   "name": "python",
   "nbconvert_exporter": "python",
   "pygments_lexer": "ipython3",
   "version": "3.10.8"
  }
 },
 "nbformat": 4,
 "nbformat_minor": 5
}
