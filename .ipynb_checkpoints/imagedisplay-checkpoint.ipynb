{
 "cells": [
  {
   "cell_type": "code",
   "execution_count": null,
   "metadata": {},
   "outputs": [],
   "source": [
    "import os\n",
    "import cv2\n",
    "import matplotlib.pyplot as plt\n",
    "import random\n",
    "\n",
    "def show_random_image_pair(image_folder):\n",
    "    lr_images = [f for f in os.listdir(image_folder) if f.endswith('LR.png')]  # Modify if the naming convention is different\n",
    "    if not lr_images:\n",
    "        print(\"No LR images found.\")\n",
    "        return\n",
    "\n",
    "    # Select a random LR image\n",
    "    random_lr_image = random.choice(lr_images)\n",
    "    lr_path = os.path.join(image_folder, random_lr_image)\n",
    "\n",
    "    # Corresponding SR image path\n",
    "    sr_filename = random_lr_image.replace('LR', 'SR')  # Modify if the naming convention is different\n",
    "    sr_path = os.path.join(image_folder, sr_filename)\n",
    "\n",
    "    lr_img = cv2.imread(lr_path, cv2.IMREAD_COLOR)\n",
    "    sr_img = cv2.imread(sr_path, cv2.IMREAD_COLOR)\n",
    "\n",
    "    if lr_img is None or sr_img is None:\n",
    "        print(f\"Images not found: {lr_path} or {sr_path}\")\n",
    "        return\n",
    "\n",
    "    # Convert from BGR to RGB\n",
    "    lr_img = cv2.cvtColor(lr_img, cv2.COLOR_BGR2RGB)\n",
    "    sr_img = cv2.cvtColor(sr_img, cv2.COLOR_BGR2RGB)\n",
    "\n",
    "    # Display images side by side\n",
    "    fig, axs = plt.subplots(1, 2, figsize=(10, 5))\n",
    "    axs[0].imshow(lr_img)\n",
    "    axs[0].set_title('Low Resolution')\n",
    "    axs[0].axis('off')\n",
    "\n",
    "    axs[1].imshow(sr_img)\n",
    "    axs[1].set_title('Super Resolved')\n",
    "    axs[1].axis('off')\n",
    "\n",
    "    plt.show(block=True)\n",
    "\n",
    "# Example usage\n",
    "image_folder = \"../Benchmark/Urban100/x2/\"  # Replace with the path to your images\n"
   ]
  },
  {
   "cell_type": "code",
   "execution_count": null,
   "metadata": {},
   "outputs": [],
   "source": [
    "show_random_image_pair(image_folder)"
   ]
  }
 ],
 "metadata": {
  "language_info": {
   "name": "python"
  }
 },
 "nbformat": 4,
 "nbformat_minor": 2
}
